{
 "cells": [
  {
   "cell_type": "code",
   "execution_count": 227,
   "metadata": {},
   "outputs": [],
   "source": [
    "import torch\n",
    "import torch.nn.functional as F\n",
    "import matplotlib.pyplot as plt"
   ]
  },
  {
   "cell_type": "code",
   "execution_count": 228,
   "metadata": {},
   "outputs": [],
   "source": [
    "maping = lambda x: torch.exp(-x)"
   ]
  },
  {
   "cell_type": "code",
   "execution_count": 229,
   "metadata": {},
   "outputs": [],
   "source": [
    "X = torch.rand((100, 2), dtype=float)\n",
    "Y = torch.sum(maping(X), dim=1)"
   ]
  },
  {
   "cell_type": "code",
   "execution_count": 230,
   "metadata": {},
   "outputs": [
    {
     "data": {
      "text/plain": [
       "(torch.Size([100, 2]), torch.Size([100]))"
      ]
     },
     "execution_count": 230,
     "metadata": {},
     "output_type": "execute_result"
    }
   ],
   "source": [
    "X.shape, Y.shape"
   ]
  },
  {
   "cell_type": "code",
   "execution_count": 231,
   "metadata": {},
   "outputs": [],
   "source": [
    "class DenseLayer:\n",
    "    def __init__(self, n_neurons, lr=5e-3):\n",
    "        self.n_neurons = n_neurons\n",
    "        self.has_initialized = False\n",
    "        self.lr = lr\n",
    "        \n",
    "    def forwardPass(self, input_):\n",
    "        if self.has_initialized is False:\n",
    "            self.weights = torch.rand(self.n_neurons, input_.shape[1], dtype=float).requires_grad_()\n",
    "            self.bias = torch.rand(torch.Size([]), dtype=float)\n",
    "            self.input = input_\n",
    "            self.has_initialized = True\n",
    "        self.output = (self.weights @ self.input.T + self.bias).T\n",
    "        \n",
    "    def calcLoss(self, loss):\n",
    "        self.loss = loss.calcLoss(self.output)\n",
    "        \n",
    "    def backPropogation(self):\n",
    "        self.loss.backward(retain_graph=True)\n",
    "        \n",
    "    def update(self):\n",
    "        self.weights.data -= self.weights.grad.data * self.lr\n",
    "        self.weights.grad.zero_()"
   ]
  },
  {
   "cell_type": "code",
   "execution_count": 238,
   "metadata": {},
   "outputs": [],
   "source": [
    "class MeanSquaredLoss:\n",
    "    def __init__(self, y):\n",
    "        self.y = y\n",
    "    \n",
    "    def calcLoss(self, pred_val):\n",
    "        loss = F.mse_loss(pred_val, self.y).sqrt()\n",
    "        print(f'Current Loss: {loss}')\n",
    "        return loss"
   ]
  }
 ],
 "metadata": {
  "kernelspec": {
   "display_name": "Python 3 (ipykernel)",
   "language": "python",
   "name": "python3"
  },
  "language_info": {
   "codemirror_mode": {
    "name": "ipython",
    "version": 3
   },
   "file_extension": ".py",
   "mimetype": "text/x-python",
   "name": "python",
   "nbconvert_exporter": "python",
   "pygments_lexer": "ipython3",
   "version": "3.11.3"
  }
 },
 "nbformat": 4,
 "nbformat_minor": 2
}
