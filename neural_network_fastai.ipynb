{
 "cells": [
  {
   "cell_type": "code",
   "execution_count": 1,
   "metadata": {},
   "outputs": [],
   "source": [
    "import torch"
   ]
  },
  {
   "cell_type": "code",
   "execution_count": 2,
   "metadata": {},
   "outputs": [],
   "source": [
    "maping = lambda x: torch.exp(-x)"
   ]
  },
  {
   "cell_type": "code",
   "execution_count": 3,
   "metadata": {},
   "outputs": [],
   "source": [
    "X = torch.rand((100, 2))\n",
    "Y = torch.sum(maping(X), dim=1)"
   ]
  },
  {
   "cell_type": "code",
   "execution_count": 4,
   "metadata": {},
   "outputs": [
    {
     "data": {
      "text/plain": [
       "(torch.Size([100, 2]), torch.Size([100]))"
      ]
     },
     "execution_count": 4,
     "metadata": {},
     "output_type": "execute_result"
    }
   ],
   "source": [
    "X.shape, Y.shape"
   ]
  },
  {
   "cell_type": "code",
   "execution_count": null,
   "metadata": {},
   "outputs": [],
   "source": [
    "class Dense_layer:\n",
    "    def __init__(self, n_neurons, lr=1):\n",
    "        self.n_neurons = n_neurons\n",
    "        self.has_initialized = False\n",
    "        self.lr = lr\n",
    "        \n",
    "    def forwardPass(self, input_):\n",
    "        if self.has_initialized is False:\n",
    "            self.weights = torch.rand(n_neurons, input_.shape[1])\n",
    "            self.bias = torch.rand(torch.Size([]))\n",
    "            self.has_initialized = True\n",
    "        self.input = input_.requires_grad_()\n",
    "        self.output = (self.weights @ self.input.T + self.bias).T\n",
    "        \n",
    "    def backwardPropogation(self):\n",
    "        self.output.backward()\n",
    "        \n",
    "    def update(self):\n",
    "        self.input.data -= self.input.grad.data * lr\n",
    "        self.input.grad = None"
   ]
  }
 ],
 "metadata": {
  "kernelspec": {
   "display_name": "Python 3 (ipykernel)",
   "language": "python",
   "name": "python3"
  },
  "language_info": {
   "codemirror_mode": {
    "name": "ipython",
    "version": 3
   },
   "file_extension": ".py",
   "mimetype": "text/x-python",
   "name": "python",
   "nbconvert_exporter": "python",
   "pygments_lexer": "ipython3",
   "version": "3.11.3"
  }
 },
 "nbformat": 4,
 "nbformat_minor": 2
}
