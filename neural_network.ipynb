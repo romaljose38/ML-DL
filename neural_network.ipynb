{
 "cells": [
  {
   "cell_type": "code",
   "execution_count": 180,
   "metadata": {},
   "outputs": [],
   "source": [
    "import numpy as np\n",
    "import matplotlib.pyplot as plt\n",
    "import seaborn as sns\n",
    "import random"
   ]
  },
  {
   "cell_type": "code",
   "execution_count": 2,
   "metadata": {},
   "outputs": [],
   "source": [
    "def maping(x):\n",
    "    return x*5 + 9"
   ]
  },
  {
   "cell_type": "code",
   "execution_count": 3,
   "metadata": {},
   "outputs": [],
   "source": [
    "X = []\n",
    "Y = []"
   ]
  },
  {
   "cell_type": "code",
   "execution_count": 4,
   "metadata": {},
   "outputs": [],
   "source": [
    "for _ in range(100):\n",
    "    x = np.random.randn(2,)\n",
    "    y = sum(list(map(maping, x)))\n",
    "    X.append(x)\n",
    "    Y.append(y)"
   ]
  },
  {
   "cell_type": "code",
   "execution_count": 5,
   "metadata": {},
   "outputs": [],
   "source": [
    "X = np.array(X)\n",
    "Y = np.array(Y)"
   ]
  },
  {
   "cell_type": "code",
   "execution_count": 6,
   "metadata": {},
   "outputs": [
    {
     "data": {
      "text/plain": [
       "(100, 2)"
      ]
     },
     "execution_count": 6,
     "metadata": {},
     "output_type": "execute_result"
    }
   ],
   "source": [
    "X.shape"
   ]
  },
  {
   "cell_type": "code",
   "execution_count": 181,
   "metadata": {},
   "outputs": [],
   "source": [
    "class Dense_layer:\n",
    "\n",
    "    def __init__(self, n_neurons):\n",
    "        # self.input = input\n",
    "        self.has_initialized = False\n",
    "        self.n_neurons = n_neurons\n",
    "        # self.weights = np.random.randn(n_neurons,input.shape[1])\n",
    "        # self.bias = np.random.randn()\n",
    "\n",
    "    def forward_propagation(self, input):\n",
    "        if not self.has_initialized:\n",
    "            self.weights = np.random.randn(self.n_neurons,input.shape[1])\n",
    "            self.bias = np.random.randn()\n",
    "            self.has_initialized = True\n",
    "        self.input = input\n",
    "        self.output = (np.dot(self.weights, input.T) + self.bias).T\n",
    "\n",
    "    def backward_propagation(self, dvalues):\n",
    "        self.dweights = dvalues.T.dot(self.input)\n",
    "        self.dinputs = dvalues.dot(self.weights)\n",
    "    \n",
    "    def update(self):\n",
    "        # print(self.weights)\n",
    "        # print(self.dweights)\n",
    "        self.weights += (self.dweights*(-0.001))\n",
    "        # print(self.weights)\n",
    "        # return dvalues.T.dot(self.input)"
   ]
  },
  {
   "cell_type": "code",
   "execution_count": 182,
   "metadata": {},
   "outputs": [],
   "source": [
    "class MeanSquaredLoss:\n",
    "\n",
    "    def __init__(self, y):\n",
    "        self.y = y\n",
    "    \n",
    "    def forward_propagation(self, input_val):\n",
    "        self.loss = np.sqrt(((input_val-self.y)**2).sum()/len(self.y))\n",
    "        self.input = input_val\n",
    "        print(f'Current Loss: {self.loss}')\n",
    "\n",
    "    def backward_propagation(self):\n",
    "        self.dinputs = -2*(self.y-self.input)/len(self.y)\n",
    "        self.dinputs = self.dinputs.reshape((self.dinputs.shape[0],1))\n",
    "        # print(self.dinputs)"
   ]
  },
  {
   "cell_type": "code",
   "execution_count": 183,
   "metadata": {},
   "outputs": [],
   "source": [
    "class Relu_layer:\n",
    "\n",
    "    def forward_propagation(self,input):\n",
    "        input = input.copy()\n",
    "        input[input<0] = 0\n",
    "        self.output = input\n",
    "    \n",
    "    def backward_propagation(self, input):\n",
    "        input = input.copy()\n",
    "        input[input<0] = 0\n",
    "        input[input>0] = 1\n",
    "        self.dinputs = input\n",
    "\n",
    "    def update(self):\n",
    "        pass"
   ]
  },
  {
   "cell_type": "code",
   "execution_count": 186,
   "metadata": {},
   "outputs": [],
   "source": [
    "class Sequential:\n",
    "\n",
    "    def __init__(self, layers):\n",
    "        self.layers = layers\n",
    "        self.layers_rev = layers[::-1]\n",
    "\n",
    "    def fit(self, x, y, no_of_epochs):\n",
    "        # self.__initialize(x,y)\n",
    "        history = dict({\n",
    "            'loss':[]\n",
    "        })\n",
    "        for _ in range(no_of_epochs):\n",
    "\n",
    "            for idx, layer in enumerate(self.layers):\n",
    "                if idx==0:\n",
    "                    layer.forward_propagation(x)\n",
    "                else:\n",
    "                    layer.forward_propagation(self.layers[idx-1].output)\n",
    "\n",
    "            for idx, layer in enumerate(self.layers_rev):\n",
    "                if idx==0:\n",
    "                    history['loss'].append(layer.loss)\n",
    "                    layer.backward_propagation()\n",
    "                else:\n",
    "                    layer.backward_propagation(self.layers_rev[idx-1].dinputs)\n",
    "                    layer.update()\n",
    "            \n",
    "        return history\n",
    "                    # print(layer.weights)\n",
    "\n",
    "    # def __initialize(self, x, y):\n",
    "    #     for idx, layer in enumerate(self.layers):\n",
    "    #         if idx==0:\n",
    "    #             layer\n"
   ]
  },
  {
   "cell_type": "code",
   "execution_count": 187,
   "metadata": {},
   "outputs": [],
   "source": [
    "Y = Y.reshape((Y.shape[0], 1))"
   ]
  },
  {
   "cell_type": "code",
   "execution_count": 188,
   "metadata": {},
   "outputs": [],
   "source": [
    "model = Sequential([\n",
    "    Dense_layer(4),\n",
    "    Dense_layer(1),\n",
    "    MeanSquaredLoss(Y)\n",
    "])\n"
   ]
  },
  {
   "cell_type": "code",
   "execution_count": 189,
   "metadata": {},
   "outputs": [
    {
     "name": "stdout",
     "output_type": "stream",
     "text": [
      "Current Loss: 23.43367791111175\n",
      "Current Loss: 22.79492082705913\n",
      "Current Loss: 22.177428289405572\n",
      "Current Loss: 21.579843678154187\n",
      "Current Loss: 21.000958557491593\n",
      "Current Loss: 20.43968889247639\n",
      "Current Loss: 19.895056262077755\n",
      "Current Loss: 19.366172936709336\n",
      "Current Loss: 18.852229961940782\n",
      "Current Loss: 18.352487590812512\n",
      "Current Loss: 17.866267556030753\n",
      "Current Loss: 17.39294678484676\n",
      "Current Loss: 16.931952243884748\n",
      "Current Loss: 16.48275666586469\n",
      "Current Loss: 16.044874960290166\n",
      "Current Loss: 15.617861149502325\n",
      "Current Loss: 15.20130570277042\n",
      "Current Loss: 14.794833166285628\n",
      "Current Loss: 14.398100007500739\n",
      "Current Loss: 14.010792609275835\n",
      "Current Loss: 13.632625363524877\n",
      "Current Loss: 13.263338826076732\n",
      "Current Loss: 12.902697904678037\n",
      "Current Loss: 12.550490060773459\n",
      "Current Loss: 12.206523513117759\n",
      "Current Loss: 11.870625437561264\n",
      "Current Loss: 11.542640162621813\n",
      "Current Loss: 11.222427364799868\n",
      "Current Loss: 10.909860271079376\n",
      "Current Loss: 10.604823878744128\n",
      "Current Loss: 10.307213204582476\n",
      "Current Loss: 10.016931576805758\n",
      "Current Loss: 9.733888983622691\n",
      "Current Loss: 9.45800049245137\n",
      "Current Loss: 9.189184753275036\n",
      "Current Loss: 8.9273625987223\n",
      "Current Loss: 8.672455752147238\n",
      "Current Loss: 8.424385653369747\n",
      "Current Loss: 8.18307240988465\n",
      "Current Loss: 7.948433879330149\n",
      "Current Loss: 7.720384886891903\n",
      "Current Loss: 7.498836579173997\n",
      "Current Loss: 7.283695913953186\n",
      "Current Loss: 7.074865283202904\n",
      "Current Loss: 6.872242264876671\n",
      "Current Loss: 6.675719497216728\n",
      "Current Loss: 6.485184667835568\n",
      "Current Loss: 6.300520608529369\n",
      "Current Loss: 6.121605485739353\n",
      "Current Loss: 5.948313075787942\n",
      "Current Loss: 5.7805131134822245\n",
      "Current Loss: 5.618071702392072\n",
      "Current Loss: 5.460851775062383\n",
      "Current Loss: 5.308713591592029\n",
      "Current Loss: 5.161515265384982\n",
      "Current Loss: 5.019113305427917\n",
      "Current Loss: 4.881363165146791\n",
      "Current Loss: 4.7481197887147975\n",
      "Current Loss: 4.619238146597215\n",
      "Current Loss: 4.49457375309709\n",
      "Current Loss: 4.373983159682243\n",
      "Current Loss: 4.257324418903433\n",
      "Current Loss: 4.144457514732427\n",
      "Current Loss: 4.035244756136497\n",
      "Current Loss: 3.9295511316449896\n",
      "Current Loss: 3.827244623539263\n",
      "Current Loss: 3.7281964810982284\n",
      "Current Loss: 3.6322814530496026\n",
      "Current Loss: 3.5393779800065754\n",
      "Current Loss: 3.449368348208348\n",
      "Current Loss: 3.362138806331221\n",
      "Current Loss: 3.277579647496598\n",
      "Current Loss: 3.1955852588778306\n",
      "Current Loss: 3.116054141504629\n",
      "Current Loss: 3.038888902988777\n",
      "Current Loss: 2.963996225955391\n",
      "Current Loss: 2.8912868149680793\n",
      "Current Loss: 2.820675324692027\n",
      "Current Loss: 2.7520802719544393\n",
      "Current Loss: 2.685423934244431\n",
      "Current Loss: 2.620632237051761\n",
      "Current Loss: 2.5576346322823973\n",
      "Current Loss: 2.4963639698147224\n",
      "Current Loss: 2.4367563640786716\n",
      "Current Loss: 2.3787510573556805\n",
      "Current Loss: 2.3222902813140545\n",
      "Current Loss: 2.267319118115242\n",
      "Current Loss: 2.2137853622542734\n",
      "Current Loss: 2.161639384134065\n",
      "Current Loss: 2.110833996219998\n",
      "Current Loss: 2.06132432247899\n",
      "Current Loss: 2.0130676716768896\n",
      "Current Loss: 1.9660234149895666\n",
      "Current Loss: 1.920152868276557\n",
      "Current Loss: 1.8754191792712924\n",
      "Current Loss: 1.8317872198583132\n",
      "Current Loss: 1.7892234835349121\n",
      "Current Loss: 1.7476959880916696\n",
      "Current Loss: 1.7071741834926295\n",
      "Current Loss: 1.6676288648906568\n",
      "Current Loss: 1.6290320906760378\n",
      "Current Loss: 1.5913571054258546\n",
      "Current Loss: 1.5545782675973974\n",
      "Current Loss: 1.5186709817900907\n",
      "Current Loss: 1.4836116353864826\n",
      "Current Loss: 1.4493775393730985\n",
      "Current Loss: 1.4159468731359324\n",
      "Current Loss: 1.3832986330222734\n",
      "Current Loss: 1.3514125844602787\n",
      "Current Loss: 1.3202692174294532\n",
      "Current Loss: 1.2898497050788515\n",
      "Current Loss: 1.2601358652948385\n",
      "Current Loss: 1.2311101250264758\n",
      "Current Loss: 1.2027554871836756\n",
      "Current Loss: 1.175055499931013\n",
      "Current Loss: 1.1479942282082765\n",
      "Current Loss: 1.1215562273173334\n",
      "Current Loss: 1.095726518423485\n",
      "Current Loss: 1.0704905658281987\n",
      "Current Loss: 1.045834255878619\n",
      "Current Loss: 1.0217438773877527\n",
      "Current Loss: 0.9982061034474006\n",
      "Current Loss: 0.9752079745238893\n",
      "Current Loss: 0.9527368827342855\n",
      "Current Loss: 0.9307805572081126\n",
      "Current Loss: 0.9093270504465443\n",
      "Current Loss: 0.8883647255976799\n",
      "Current Loss: 0.8678822445727165\n",
      "Current Loss: 0.8478685569337556\n",
      "Current Loss: 0.8283128894894431\n",
      "Current Loss: 0.8092047365398516\n",
      "Current Loss: 0.7905338507167716\n",
      "Current Loss: 0.7722902343701217\n",
      "Current Loss: 0.7544641314552699\n",
      "Current Loss: 0.7370460198799781\n",
      "Current Loss: 0.7200266042732059\n",
      "Current Loss: 0.7033968091412958\n",
      "Current Loss: 0.6871477723801096\n",
      "Current Loss: 0.6712708391144491\n",
      "Current Loss: 0.6557575558386555\n",
      "Current Loss: 0.6405996648346333\n",
      "Current Loss: 0.6257890988456695\n",
      "Current Loss: 0.6113179759863995\n",
      "Current Loss: 0.597178594871041\n",
      "Current Loss: 0.5833634299436663\n",
      "Current Loss: 0.5698651269957573\n",
      "Current Loss: 0.5566764988576379\n",
      "Current Loss: 0.5437905212516208\n",
      "Current Loss: 0.5312003287958078\n",
      "Current Loss: 0.518899211148498\n",
      "Current Loss: 0.5068806092840773\n",
      "Current Loss: 0.4951381118920918\n",
      "Current Loss: 0.48366545189196225\n",
      "Current Loss: 0.47245650305646725\n",
      "Current Loss: 0.4615052767377501\n",
      "Current Loss: 0.45080591869014064\n",
      "Current Loss: 0.4403527059846171\n",
      "Current Loss: 0.43014004401012884\n",
      "Current Loss: 0.4201624635574762\n",
      "Current Loss: 0.41041461798175305\n",
      "Current Loss: 0.40089128043971894\n",
      "Current Loss: 0.39158734119876415\n",
      "Current Loss: 0.3824978050143888\n",
      "Current Loss: 0.37361778857336114\n",
      "Current Loss: 0.3649425179999552\n",
      "Current Loss: 0.35646732642283135\n",
      "Current Loss: 0.3481876516003425\n",
      "Current Loss: 0.3400990336021713\n",
      "Current Loss: 0.3321971125453565\n",
      "Current Loss: 0.324477626382929\n",
      "Current Loss: 0.3169364087434371\n",
      "Current Loss: 0.30956938681979473\n",
      "Current Loss: 0.3023725793059758\n",
      "Current Loss: 0.2953420943801223\n",
      "Current Loss: 0.2884741277327809\n",
      "Current Loss: 0.28176496063899154\n",
      "Current Loss: 0.27521095807305856\n",
      "Current Loss: 0.268808566864866\n",
      "Current Loss: 0.262554313896671\n",
      "Current Loss: 0.25644480433935574\n",
      "Current Loss: 0.2504767199271435\n",
      "Current Loss: 0.2446468172698643\n",
      "Current Loss: 0.23895192620184424\n",
      "Current Loss: 0.2333889481665813\n",
      "Current Loss: 0.22795485463634715\n",
      "Current Loss: 0.2226466855659329\n",
      "Current Loss: 0.21746154787975475\n",
      "Current Loss: 0.21239661399156712\n",
      "Current Loss: 0.20744912035606589\n",
      "Current Loss: 0.20261636605166666\n",
      "Current Loss: 0.19789571139378687\n",
      "Current Loss: 0.19328457657795858\n",
      "Current Loss: 0.18878044035213384\n",
      "Current Loss: 0.18438083871755567\n",
      "Current Loss: 0.1800833636575747\n",
      "Current Loss: 0.17588566189383212\n",
      "Current Loss: 0.17178543366921856\n",
      "Current Loss: 0.16778043155703615\n",
      "Current Loss: 0.1638684592958347\n",
      "Current Loss: 0.16004737064935826\n"
     ]
    }
   ],
   "source": [
    "history = model.fit(X,Y, 200)"
   ]
  },
  {
   "cell_type": "code",
   "execution_count": 191,
   "metadata": {},
   "outputs": [
    {
     "data": {
      "text/plain": [
       "<matplotlib.legend.Legend at 0x210d4c67f40>"
      ]
     },
     "execution_count": 191,
     "metadata": {},
     "output_type": "execute_result"
    },
    {
     "data": {
      "image/png": "[encoded data removed]",
      "text/plain": [
       "<Figure size 640x480 with 1 Axes>"
      ]
     },
     "metadata": {},
     "output_type": "display_data"
    }
   ],
   "source": [
    "plt.plot(range(len(history['loss'])), history['loss'], label=\"Training\")\n",
    "plt.xlabel(\"Epochs\")\n",
    "plt.ylabel(\"Loss\")\n",
    "plt.legend(loc='best')\n",
    "# plt.title(label)"
   ]
  },
  {
   "cell_type": "code",
   "execution_count": 218,
   "metadata": {},
   "outputs": [],
   "source": [
    "x_valid = np.array([5,6])"
   ]
  },
  {
   "cell_type": "code",
   "execution_count": 219,
   "metadata": {},
   "outputs": [
    {
     "data": {
      "text/plain": [
       "73"
      ]
     },
     "execution_count": 219,
     "metadata": {},
     "output_type": "execute_result"
    }
   ],
   "source": [
    "np.array(list(map(maping, x_valid))).sum()"
   ]
  },
  {
   "cell_type": "code",
   "execution_count": 216,
   "metadata": {},
   "outputs": [
    {
     "data": {
      "text/plain": [
       "(1, 1, 2)"
      ]
     },
     "execution_count": 216,
     "metadata": {},
     "output_type": "execute_result"
    }
   ],
   "source": [
    "x_valid = np.array(x_valid)\n",
    "x_valid.shape"
   ]
  },
  {
   "cell_type": "code",
   "execution_count": 220,
   "metadata": {},
   "outputs": [],
   "source": [
    "layer1 = model.layers[0]\n",
    "layer2 = model.layers[1]"
   ]
  },
  {
   "cell_type": "code",
   "execution_count": 221,
   "metadata": {},
   "outputs": [],
   "source": [
    "layer1.forward_propagation(x_valid)"
   ]
  },
  {
   "cell_type": "code",
   "execution_count": 222,
   "metadata": {},
   "outputs": [],
   "source": [
    "layer2.forward_propagation(layer1.output)"
   ]
  },
  {
   "cell_type": "code",
   "execution_count": 223,
   "metadata": {},
   "outputs": [
    {
     "data": {
      "text/plain": [
       "array([72.97498892])"
      ]
     },
     "execution_count": 223,
     "metadata": {},
     "output_type": "execute_result"
    }
   ],
   "source": [
    "layer2.output"
   ]
  },
  {
   "cell_type": "code",
   "execution_count": 52,
   "metadata": {},
   "outputs": [
    {
     "data": {
      "text/plain": [
       "[<__main__.Dense_layer at 0x210d455c3d0>,\n",
       " <__main__.Dense_layer at 0x210d455cb20>,\n",
       " <__main__.MeanSquaredLoss at 0x210d455c5e0>]"
      ]
     },
     "execution_count": 52,
     "metadata": {},
     "output_type": "execute_result"
    }
   ],
   "source": [
    "model.layers"
   ]
  }
 ],
 "metadata": {
  "kernelspec": {
   "display_name": "dl",
   "language": "python",
   "name": "dl"
  },
  "language_info": {
   "codemirror_mode": {
    "name": "ipython",
    "version": 3
   },
   "file_extension": ".py",
   "mimetype": "text/x-python",
   "name": "python",
   "nbconvert_exporter": "python",
   "pygments_lexer": "ipython3",
   "version": "3.9.6"
  },
  "orig_nbformat": 4,
  "vscode": {
   "interpreter": {
    "hash": "11938c6bc6919ae2720b4d5011047913343b08a43b18698fd82dedb0d4417594"
   }
  }
 },
 "nbformat": 4,
 "nbformat_minor": 2
}
